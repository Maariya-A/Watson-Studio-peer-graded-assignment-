{
 "cells": [
  {
   "cell_type": "markdown",
   "metadata": {
    "collapsed": true
   },
   "source": [
    "# My Jupyter Notebook on IBM Watson Studio"
   ]
  },
  {
   "cell_type": "markdown",
   "metadata": {},
   "source": [
    "**Maariya** <br>\n",
    "Data Scientist"
   ]
  },
  {
   "cell_type": "markdown",
   "metadata": {},
   "source": [
    "*I am intrested in Data Science because I believe learning this skill will help me with current occupation (fitness trainer), analayzing what works for people, what brings them the best reuslts, overcoming plateuas etc.* "
   ]
  },
  {
   "cell_type": "markdown",
   "metadata": {},
   "source": [
    "### The code below shows that 5 is multiplied by 2"
   ]
  },
  {
   "cell_type": "code",
   "execution_count": 6,
   "metadata": {},
   "outputs": [
    {
     "data": {
      "text/plain": [
       "10"
      ]
     },
     "execution_count": 6,
     "metadata": {},
     "output_type": "execute_result"
    }
   ],
   "source": [
    "5*2\n"
   ]
  },
  {
   "cell_type": "markdown",
   "metadata": {},
   "source": [
    "### Nutrition Tips\n",
    "1. Eat More Protien\n",
    "2. Increase Fibre \n",
    "3. Eat in Fasting Window <br>\n",
    "\n",
    "<a href= \"https://www.google.com/imgres?imgurl=https%3A%2F%2Fimages.unsplash.com%2Fphoto-1544033527-b192daee1f5b%3Fixlib%3Drb-1.2.1%26ixid%3DMnwxMjA3fDB8MHxwaG90by1wYWdlfHx8fGVufDB8fHx8%26auto%3Dformat%26fit%3Dcrop%26w%3D1000%26q%3D80&imgrefurl=https%3A%2F%2Funsplash.com%2Fphotos%2FmTorQ9gFfOg&tbnid=wPmjVkThlr-w8M&vet=12ahUKEwji4Y-Wltb6AhXYwoUKHfrsB0oQMygCegUIARDIAQ..i&docid=0loRITLkqaVZOM&w=1000&h=667&q=dumbbells%20images%20copyright&hl=en&ved=2ahUKEwji4Y-Wltb6AhXYwoUKHfrsB0oQMygCegUIARDIAQ\">image of dumbell</a> \n",
    "\n",
    "|Date||Weight||Calories Consumed|\n",
    "|---||----||---|\n",
    "|10/10/2022||  ||    |\n",
    "|11/10/2022||  ||    |\n"
   ]
  },
  {
   "cell_type": "code",
   "execution_count": null,
   "metadata": {},
   "outputs": [],
   "source": []
  }
 ],
 "metadata": {
  "kernelspec": {
   "display_name": "Python 3.9",
   "language": "python",
   "name": "python3"
  },
  "language_info": {
   "codemirror_mode": {
    "name": "ipython",
    "version": 3
   },
   "file_extension": ".py",
   "mimetype": "text/x-python",
   "name": "python",
   "nbconvert_exporter": "python",
   "pygments_lexer": "ipython3",
   "version": "3.9.12"
  }
 },
 "nbformat": 4,
 "nbformat_minor": 1
}
